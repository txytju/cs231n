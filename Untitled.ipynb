{
 "cells": [
  {
   "cell_type": "code",
   "execution_count": 4,
   "metadata": {
    "collapsed": true
   },
   "outputs": [],
   "source": [
    "def quick_sort_3(a):\n",
    "    # base condition\n",
    "    if len(a)<2:\n",
    "        return a\n",
    "    # 递归\n",
    "    else:\n",
    "        pivot = a[0]\n",
    "        equal_elements = [i for i in a if i==pivot]\n",
    "        smaller_elements = [i for i in a[1:] if i<pivot]\n",
    "        larger_elements = [i for i in a[1:] if i>pivot]\n",
    "        return quick_sort(smaller_elements) + equal_elements + quick_sort(larger_elements)"
   ]
  },
  {
   "cell_type": "code",
   "execution_count": null,
   "metadata": {
    "collapsed": true
   },
   "outputs": [],
   "source": []
  },
  {
   "cell_type": "code",
   "execution_count": null,
   "metadata": {
    "collapsed": true
   },
   "outputs": [],
   "source": []
  },
  {
   "cell_type": "code",
   "execution_count": null,
   "metadata": {
    "collapsed": true
   },
   "outputs": [],
   "source": []
  },
  {
   "cell_type": "code",
   "execution_count": null,
   "metadata": {
    "collapsed": true
   },
   "outputs": [],
   "source": []
  },
  {
   "cell_type": "code",
   "execution_count": null,
   "metadata": {
    "collapsed": true
   },
   "outputs": [],
   "source": []
  },
  {
   "cell_type": "code",
   "execution_count": null,
   "metadata": {
    "collapsed": true
   },
   "outputs": [],
   "source": []
  },
  {
   "cell_type": "code",
   "execution_count": null,
   "metadata": {
    "collapsed": true
   },
   "outputs": [],
   "source": []
  },
  {
   "cell_type": "code",
   "execution_count": 34,
   "metadata": {
    "collapsed": true
   },
   "outputs": [],
   "source": [
    "import sys\n",
    "import random"
   ]
  },
  {
   "cell_type": "code",
   "execution_count": 33,
   "metadata": {
    "collapsed": true
   },
   "outputs": [],
   "source": [
    "def partition3(a, l, r):\n",
    "\n",
    "    # 首先保证 a[m1] = pivot & a[i]<a[m1] for i<m1\n",
    "    x = a[l]\n",
    "    m1 = l\n",
    "    for i in range(l+1, r+1):\n",
    "        if a[i] < x:\n",
    "            m1 += 1\n",
    "            a[m1], a[i] = a[i], a[m1]\n",
    "    a[l], a[m1] = a[m1], a[l]\n",
    "\n",
    "    # 在 pivot 的后续中寻找与之相等的\n",
    "    m2 = m1;\n",
    "    for i in range(m1+1, r+1):\n",
    "        if a[i] == a[m1]:\n",
    "            m2 += 1\n",
    "            a[m2], a[i] = a[i], a[m2]\n",
    "\n",
    "    # m1 指向 等于 pivot 的最小下标\n",
    "    # m2 指向 等于 pivot 的最大下标\n",
    "    return m1, m2"
   ]
  },
  {
   "cell_type": "code",
   "execution_count": 37,
   "metadata": {
    "collapsed": true
   },
   "outputs": [],
   "source": [
    "def randomized_quick_sort(a, l, r):\n",
    "    if l >= r:\n",
    "        return\n",
    "    k = random.randint(l, r)\n",
    "    a[l], a[k] = a[k], a[l]\n",
    "    #use partition3\n",
    "    m1, m2 = partition3(a, l, r)\n",
    "    randomized_quick_sort(a, l, m1 - 1);\n",
    "    randomized_quick_sort(a, m2 + 1, r);"
   ]
  },
  {
   "cell_type": "code",
   "execution_count": 44,
   "metadata": {},
   "outputs": [],
   "source": [
    "a = [3,2,3,3,1,4,5]\n",
    "m1, m2 = partition3(a,0,len(a)-1)"
   ]
  },
  {
   "cell_type": "code",
   "execution_count": 46,
   "metadata": {},
   "outputs": [
    {
     "data": {
      "text/plain": [
       "4"
      ]
     },
     "execution_count": 46,
     "metadata": {},
     "output_type": "execute_result"
    }
   ],
   "source": [
    "m2"
   ]
  },
  {
   "cell_type": "code",
   "execution_count": 38,
   "metadata": {},
   "outputs": [],
   "source": [
    "a = [1,2,3,4,5,1,2,3,4,5,1,2,3,1,2,1]\n",
    "randomized_quick_sort(a,0,len(a)-1)"
   ]
  },
  {
   "cell_type": "code",
   "execution_count": 39,
   "metadata": {},
   "outputs": [
    {
     "data": {
      "text/plain": [
       "[1, 1, 1, 1, 1, 2, 2, 2, 2, 3, 3, 3, 4, 4, 5, 5]"
      ]
     },
     "execution_count": 39,
     "metadata": {},
     "output_type": "execute_result"
    }
   ],
   "source": [
    "a"
   ]
  },
  {
   "cell_type": "code",
   "execution_count": null,
   "metadata": {
    "collapsed": true
   },
   "outputs": [],
   "source": []
  },
  {
   "cell_type": "code",
   "execution_count": null,
   "metadata": {
    "collapsed": true
   },
   "outputs": [],
   "source": []
  },
  {
   "cell_type": "code",
   "execution_count": null,
   "metadata": {
    "collapsed": true
   },
   "outputs": [],
   "source": []
  },
  {
   "cell_type": "code",
   "execution_count": null,
   "metadata": {
    "collapsed": true
   },
   "outputs": [],
   "source": []
  },
  {
   "cell_type": "code",
   "execution_count": null,
   "metadata": {
    "collapsed": true
   },
   "outputs": [],
   "source": []
  },
  {
   "cell_type": "code",
   "execution_count": null,
   "metadata": {
    "collapsed": true
   },
   "outputs": [],
   "source": []
  },
  {
   "cell_type": "code",
   "execution_count": null,
   "metadata": {
    "collapsed": true
   },
   "outputs": [],
   "source": []
  },
  {
   "cell_type": "code",
   "execution_count": null,
   "metadata": {
    "collapsed": true
   },
   "outputs": [],
   "source": []
  },
  {
   "cell_type": "code",
   "execution_count": null,
   "metadata": {
    "collapsed": true
   },
   "outputs": [],
   "source": []
  },
  {
   "cell_type": "code",
   "execution_count": 51,
   "metadata": {
    "collapsed": true
   },
   "outputs": [],
   "source": [
    "def binary_search(a, x):\n",
    "    left, right = 0, len(a)\n",
    "\n",
    "    while left < right:\n",
    "        middle = (left + right)//2\n",
    "        if a[middle] == x:\n",
    "            return middle\n",
    "        elif a[middle] > x:\n",
    "            right = middle\n",
    "        else:\n",
    "            left = middle\n",
    "\n",
    "    return -1"
   ]
  },
  {
   "cell_type": "code",
   "execution_count": 54,
   "metadata": {},
   "outputs": [
    {
     "data": {
      "text/plain": [
       "0"
      ]
     },
     "execution_count": 54,
     "metadata": {},
     "output_type": "execute_result"
    }
   ],
   "source": [
    "a = [1,5,8,12,13]\n",
    "binary_search(a,1)"
   ]
  },
  {
   "cell_type": "code",
   "execution_count": null,
   "metadata": {
    "collapsed": true
   },
   "outputs": [],
   "source": []
  },
  {
   "cell_type": "code",
   "execution_count": null,
   "metadata": {
    "collapsed": true
   },
   "outputs": [],
   "source": []
  },
  {
   "cell_type": "code",
   "execution_count": null,
   "metadata": {
    "collapsed": true
   },
   "outputs": [],
   "source": []
  },
  {
   "cell_type": "code",
   "execution_count": null,
   "metadata": {
    "collapsed": true
   },
   "outputs": [],
   "source": []
  },
  {
   "cell_type": "code",
   "execution_count": null,
   "metadata": {
    "collapsed": true
   },
   "outputs": [],
   "source": []
  },
  {
   "cell_type": "code",
   "execution_count": null,
   "metadata": {
    "collapsed": true
   },
   "outputs": [],
   "source": []
  },
  {
   "cell_type": "code",
   "execution_count": 68,
   "metadata": {},
   "outputs": [],
   "source": [
    "def fast_count_segments(starts, ends, points):\n",
    "    cnt = []\n",
    "    dic = {}\n",
    "    for i in range(len(starts)):\n",
    "        for j in range(starts[i],ends[i]+1):\n",
    "            if j not in dic.keys():\n",
    "                dic[j] = 1\n",
    "            else:\n",
    "                dic[j] += 1\n",
    "\n",
    "    cnt = [dic[i] if i in dic else 0 for i in points]\n",
    "    return cnt"
   ]
  },
  {
   "cell_type": "code",
   "execution_count": 69,
   "metadata": {},
   "outputs": [
    {
     "name": "stdout",
     "output_type": "stream",
     "text": [
      "1 0 0 "
     ]
    }
   ],
   "source": [
    "input_ = \"2 3 0 5 7 10 1 6 11\"\n",
    "\n",
    "data = list(map(int, input_.split()))\n",
    "n = data[0]\n",
    "m = data[1]\n",
    "starts = data[2:2 * n + 2:2]\n",
    "ends   = data[3:2 * n + 2:2]\n",
    "points = data[2 * n + 2:]\n",
    "#use fast_count_segments\n",
    "cnt = fast_count_segments(starts, ends, points)\n",
    "for x in cnt:\n",
    "    print(x, end=' ')"
   ]
  },
  {
   "cell_type": "code",
   "execution_count": 70,
   "metadata": {},
   "outputs": [
    {
     "name": "stdout",
     "output_type": "stream",
     "text": [
      "[0, 7] [1, 6, 11]\n"
     ]
    }
   ],
   "source": [
    "print(starts, points)"
   ]
  },
  {
   "cell_type": "code",
   "execution_count": 71,
   "metadata": {},
   "outputs": [
    {
     "name": "stdout",
     "output_type": "stream",
     "text": [
      "[1, 0, 0]\n"
     ]
    }
   ],
   "source": [
    "print(cnt)"
   ]
  },
  {
   "cell_type": "code",
   "execution_count": null,
   "metadata": {
    "collapsed": true
   },
   "outputs": [],
   "source": []
  }
 ],
 "metadata": {
  "kernelspec": {
   "display_name": "Python 3",
   "language": "python",
   "name": "python3"
  },
  "language_info": {
   "codemirror_mode": {
    "name": "ipython",
    "version": 3
   },
   "file_extension": ".py",
   "mimetype": "text/x-python",
   "name": "python",
   "nbconvert_exporter": "python",
   "pygments_lexer": "ipython3",
   "version": "3.5.2"
  }
 },
 "nbformat": 4,
 "nbformat_minor": 2
}
