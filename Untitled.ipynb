{
 "cells": [
  {
   "cell_type": "code",
   "execution_count": 1,
   "metadata": {},
   "outputs": [
    {
     "name": "stdout",
     "output_type": "stream",
     "text": [
      "Collecting torch==0.3.1 from http://download.pytorch.org/whl/cpu/torch-0.3.1-cp35-cp35m-linux_x86_64.whl\n",
      "  Downloading http://download.pytorch.org/whl/cpu/torch-0.3.1-cp35-cp35m-linux_x86_64.whl (47.0MB)\n",
      "\u001b[K    76% |########################        | 35.7MB 11kB/s eta 0:15:4450 2% |                                | 1.1MB 42kB/s eta 0:18:10    3% |#                               | 1.9MB 34kB/s eta 0:22:02    4% |#                               | 2.0MB 34kB/s eta 0:21:32    4% |#                               | 2.0MB 34kB/s eta 0:21:42    4% |#                               | 2.0MB 38kB/s eta 0:19:17    5% |#                               | 2.7MB 27kB/s eta 0:27:03    6% |##                              | 3.2MB 23kB/s eta 0:31:29    11% |###                             | 5.6MB 30kB/s eta 0:22:16    16% |#####                           | 8.0MB 50kB/s eta 0:12:51    19% |######                          | 9.1MB 27kB/s eta 0:23:08    19% |######                          | 9.1MB 24kB/s eta 0:25:29    19% |######                          | 9.4MB 19kB/s eta 0:31:50    20% |######                          | 9.6MB 21kB/s eta 0:29:18    20% |######                          | 9.8MB 27kB/s eta 0:22:55    22% |#######                         | 10.5MB 23kB/s eta 0:26:19    22% |#######                         | 10.5MB 33kB/s eta 0:18:16    22% |#######                         | 10.7MB 28kB/s eta 0:21:13    23% |#######                         | 11.0MB 23kB/s eta 0:25:45    25% |########                        | 12.1MB 13kB/s eta 0:42:23    26% |########                        | 12.3MB 13kB/s eta 0:41:54    27% |########                        | 12.9MB 19kB/s eta 0:28:49    28% |#########                       | 13.3MB 25kB/s eta 0:22:25    28% |#########                       | 13.5MB 20kB/s eta 0:27:32    29% |#########                       | 13.6MB 20kB/s eta 0:26:30    29% |#########                       | 13.9MB 14kB/s eta 0:37:00    31% |##########                      | 14.7MB 24kB/s eta 0:22:21    33% |##########                      | 15.8MB 26kB/s eta 0:19:17    33% |##########                      | 15.9MB 26kB/s eta 0:19:18    35% |###########                     | 16.6MB 36kB/s eta 0:14:05    36% |###########                     | 17.0MB 26kB/s eta 0:18:54    38% |############                    | 18.0MB 28kB/s eta 0:17:02    38% |############                    | 18.3MB 33kB/s eta 0:14:25    39% |############                    | 18.4MB 31kB/s eta 0:14:58    40% |#############                   | 19.2MB 35kB/s eta 0:13:15    41% |#############                   | 19.5MB 27kB/s eta 0:16:24    45% |##############                  | 21.2MB 35kB/s eta 0:12:08    45% |##############                  | 21.6MB 52kB/s eta 0:08:05    46% |##############                  | 21.7MB 57kB/s eta 0:07:23    47% |###############                 | 22.2MB 28kB/s eta 0:14:30    47% |###############                 | 22.2MB 27kB/s eta 0:15:10    48% |###############                 | 22.6MB 30kB/s eta 0:13:33    48% |###############                 | 22.7MB 33kB/s eta 0:12:07    48% |###############                 | 22.9MB 40kB/s eta 0:09:52    49% |###############                 | 23.1MB 26kB/s eta 0:15:03    52% |################                | 24.7MB 53kB/s eta 0:06:55    54% |#################               | 25.7MB 44kB/s eta 0:08:04    55% |#################               | 26.3MB 9.0kB/s eta 0:38:13    56% |##################              | 26.4MB 23kB/s eta 0:14:52    56% |##################              | 26.5MB 23kB/s eta 0:14:26    59% |###################             | 27.9MB 24kB/s eta 0:12:46    59% |###################             | 28.0MB 33kB/s eta 0:09:20    60% |###################             | 28.3MB 20kB/s eta 0:15:09    61% |###################             | 28.9MB 10kB/s eta 0:29:15    63% |####################            | 29.7MB 49kB/s eta 0:05:49    63% |####################            | 29.7MB 49kB/s eta 0:05:47    64% |####################            | 30.5MB 25kB/s eta 0:10:41    65% |#####################           | 30.9MB 25kB/s eta 0:10:38    66% |#####################           | 31.3MB 57kB/s eta 0:04:33    68% |######################          | 32.3MB 17kB/s eta 0:13:52    69% |######################          | 32.7MB 14kB/s eta 0:16:03    72% |#######################         | 34.1MB 5.3kB/s eta 0:40:15    75% |########################        | 35.4MB 9.7kB/s eta 0:19:58\u001b[31mException:\n",
      "Traceback (most recent call last):\n",
      "  File \"/usr/local/lib/python3.5/dist-packages/pip/_vendor/requests/packages/urllib3/response.py\", line 232, in _error_catcher\n",
      "    yield\n",
      "  File \"/usr/local/lib/python3.5/dist-packages/pip/_vendor/requests/packages/urllib3/response.py\", line 314, in read\n",
      "    data = self._fp.read(amt)\n",
      "  File \"/usr/lib/python3.5/http/client.py\", line 448, in read\n",
      "    n = self.readinto(b)\n",
      "  File \"/usr/lib/python3.5/http/client.py\", line 488, in readinto\n",
      "    n = self.fp.readinto(b)\n",
      "  File \"/usr/lib/python3.5/socket.py\", line 575, in readinto\n",
      "    return self._sock.recv_into(b)\n",
      "socket.timeout: timed out\n",
      "\n",
      "During handling of the above exception, another exception occurred:\n",
      "\n",
      "Traceback (most recent call last):\n",
      "  File \"/usr/local/lib/python3.5/dist-packages/pip/basecommand.py\", line 215, in main\n",
      "    status = self.run(options, args)\n",
      "  File \"/usr/local/lib/python3.5/dist-packages/pip/commands/install.py\", line 335, in run\n",
      "    wb.build(autobuilding=True)\n",
      "  File \"/usr/local/lib/python3.5/dist-packages/pip/wheel.py\", line 749, in build\n",
      "    self.requirement_set.prepare_files(self.finder)\n",
      "  File \"/usr/local/lib/python3.5/dist-packages/pip/req/req_set.py\", line 380, in prepare_files\n",
      "    ignore_dependencies=self.ignore_dependencies))\n",
      "  File \"/usr/local/lib/python3.5/dist-packages/pip/req/req_set.py\", line 620, in _prepare_file\n",
      "    session=self.session, hashes=hashes)\n",
      "  File \"/usr/local/lib/python3.5/dist-packages/pip/download.py\", line 821, in unpack_url\n",
      "    hashes=hashes\n",
      "  File \"/usr/local/lib/python3.5/dist-packages/pip/download.py\", line 659, in unpack_http_url\n",
      "    hashes)\n",
      "  File \"/usr/local/lib/python3.5/dist-packages/pip/download.py\", line 882, in _download_http_url\n",
      "    _download_url(resp, link, content_file, hashes)\n",
      "  File \"/usr/local/lib/python3.5/dist-packages/pip/download.py\", line 605, in _download_url\n",
      "    consume(downloaded_chunks)\n",
      "  File \"/usr/local/lib/python3.5/dist-packages/pip/utils/__init__.py\", line 852, in consume\n",
      "    deque(iterator, maxlen=0)\n",
      "  File \"/usr/local/lib/python3.5/dist-packages/pip/download.py\", line 571, in written_chunks\n",
      "    for chunk in chunks:\n",
      "  File \"/usr/local/lib/python3.5/dist-packages/pip/utils/ui.py\", line 139, in iter\n",
      "    for x in it:\n",
      "  File \"/usr/local/lib/python3.5/dist-packages/pip/download.py\", line 560, in resp_read\n",
      "    decode_content=False):\n",
      "  File \"/usr/local/lib/python3.5/dist-packages/pip/_vendor/requests/packages/urllib3/response.py\", line 357, in stream\n",
      "    data = self.read(amt=amt, decode_content=decode_content)\n",
      "  File \"/usr/local/lib/python3.5/dist-packages/pip/_vendor/requests/packages/urllib3/response.py\", line 324, in read\n",
      "    flush_decoder = True\n",
      "  File \"/usr/lib/python3.5/contextlib.py\", line 77, in __exit__\n",
      "    self.gen.throw(type, value, traceback)\n",
      "  File \"/usr/local/lib/python3.5/dist-packages/pip/_vendor/requests/packages/urllib3/response.py\", line 237, in _error_catcher\n",
      "    raise ReadTimeoutError(self._pool, None, 'Read timed out.')\n",
      "pip._vendor.requests.packages.urllib3.exceptions.ReadTimeoutError: HTTPConnectionPool(host='download.pytorch.org', port=80): Read timed out.\u001b[0m\n"
     ]
    }
   ],
   "source": [
    "!pip3 install http://download.pytorch.org/whl/cpu/torch-0.3.1-cp35-cp35m-linux_x86_64.whl "
   ]
  },
  {
   "cell_type": "code",
   "execution_count": null,
   "metadata": {
    "collapsed": true
   },
   "outputs": [],
   "source": []
  }
 ],
 "metadata": {
  "kernelspec": {
   "display_name": "Python 3",
   "language": "python",
   "name": "python3"
  },
  "language_info": {
   "codemirror_mode": {
    "name": "ipython",
    "version": 3
   },
   "file_extension": ".py",
   "mimetype": "text/x-python",
   "name": "python",
   "nbconvert_exporter": "python",
   "pygments_lexer": "ipython3",
   "version": "3.5.2"
  }
 },
 "nbformat": 4,
 "nbformat_minor": 2
}
